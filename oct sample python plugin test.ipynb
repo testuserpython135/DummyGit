{
 "cells": [
  {
   "cell_type": "code",
   "execution_count": 3,
   "id": "34d31723-7e32-41ed-b8a3-cd8ae1a1ebd0",
   "metadata": {},
   "outputs": [],
   "source": [
    "_input_df = \"select (Version.[Version Name]*Product.[Product]*Time.FiscalWeek*SalesAccount.[Account]*Location.[Location]*{Measure.[DPSellOutUnitsActuals],Measure.[Mean Pricing Save PCT],Measure.[Placement Count],Measure.[Promotion Count],Measure.[DPSellOutPrice]});\"\n",
    "_predict_df = \"select (Version.[Version Name]*Product.[Product]*Time.FiscalWeek*SalesAccount.[Account]*Location.[Location]*{Measure.[DPSellOutUnitsActuals],Measure.[Mean Pricing Save PCT],Measure.[Placement Count],Measure.[Promotion Count],Measure.[DPSellOutPrice]});\"\n",
    "\n",
    "\n",
    "# Initialize the O9DataLake with the input parameters and dataframes\n",
    "# Data can be accessed with O9DataLake.get(<Input Name>)\n",
    "# Overwritten values will not be reflected in the O9DataLake after initialization\n",
    "\n",
    "from o9_common_utils.O9DataLake import O9DataLake, ResourceType, DataSource\n",
    "O9DataLake.register(\"input_df\",DataSource.LS, ResourceType.IBPL, _input_df)\n",
    "O9DataLake.register(\"predict_df\",DataSource.LS, ResourceType.IBPL, _predict_df)"
   ]
  },
  {
   "cell_type": "code",
   "execution_count": null,
   "id": "2243ab20-95ac-4367-b8e2-af8aa8061333",
   "metadata": {},
   "outputs": [],
   "source": [
    "input_df = O9DataLake.get('input_df')\n",
    "predict_df = O9DataLake.get('predict_df')\n",
    "\n",
    "from sklearn import tree\n",
    "import logging\n",
    "logger = logging.getLogger('o9_logger')\n",
    "logger.info('Plugin Executed')\n",
    "logger.error(datetest.head(2))\n",
    "from o9_flow.O9Flow import O9Flow\n",
    "O9Flow = O9Flow()\n",
    "O9Flow.start_run()\n",
    "print('>>>>>>input_df', input_df.head(2))\n",
    "print('*********************')\n",
    "print('TESTTESTTEST')\n",
    "print('>>>>>>datetest', datetest.head(2))\n",
    "\n",
    "out_df = None\n",
    "\n",
    "if predict_df is not None and len(predict_df.index) > 0:\n",
    "    x = input_df[['Mean Pricing Save PCT', 'Placement Count', 'Promotion Count', 'DPSellOutPrice']]\n",
    "    y = input_df[['DPSellOutUnitsActuals']]\n",
    "    x = x.fillna(0).values\n",
    "    y = y.fillna(0).values\n",
    "\n",
    "    clf = tree.DecisionTreeRegressor()\n",
    "    clf = clf.fit(x, y)\n",
    "    predict = predict_df[['Mean Pricing Save PCT', 'Placement Count', 'Promotion Count', 'DPSellOutPrice']].fillna(0).values\n",
    "    predict_values = clf.predict(predict)\n",
    "    predict_df[\"DPSellOutUnitsFcst\"] = predict_values\n",
    "    #out_df = pd.concat([predict_keys, out_df_part], axis=1)\n",
    "    out_df=predict_df[['Time.[FiscalWeek]', 'Product.[Product]', 'Version.[Version Name]', 'SalesAccount.[Account]','Location.[Location]','DPSellOutUnitsFcst']]\n",
    "\n",
    "else:\n",
    "\n",
    "    out_df = None\n",
    "logger.info('Plugin Executed completed')\n",
    "logger.error('Plugindone')\n",
    "print(out_df)\n",
    "\n",
    "O9DataLake.put('DPBaseOutput1',out_df)"
   ]
  }
 ],
 "metadata": {
  "kernelspec": {
   "display_name": "[pyplatformhivetest] Tenant Conda Environment",
   "language": "python",
   "name": "genieaz_pyplatformhivetest"
  },
  "language_info": {
   "codemirror_mode": {
    "name": "ipython",
    "version": 3
   },
   "file_extension": ".py",
   "mimetype": "text/x-python",
   "name": "python",
   "nbconvert_exporter": "python",
   "pygments_lexer": "ipython3",
   "version": "3.7.10"
  }
 },
 "nbformat": 4,
 "nbformat_minor": 5
}
