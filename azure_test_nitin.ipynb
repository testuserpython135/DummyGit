{
 "cells": [
  {
   "cell_type": "code",
   "execution_count": null,
   "id": "5762907a-4603-4531-8b20-b2ab7228a0ab",
   "metadata": {
    "editable": false
   },
   "outputs": [],
   "source": [
    "# This cell is NOT editable. Overwrite variables on your own discretion.\n",
    "# Any changes other than the script code will NOT BE SAVED!\n",
    "# All cells are assumed to be script code cells, unless explictly tagged as 'o9_ignore'"
   ]
  },
  {
   "cell_type": "code",
   "execution_count": 2,
   "id": "7d0dc336-d163-49e4-b66d-679ef4c73471",
   "metadata": {},
   "outputs": [],
   "source": [
    "_input_df = \" Select ([M5_Store].[store_id] * [M5_Item].[item_id] * [M5_Calendar].[Date] * [Version].[Version Name] ) on row,  ({Measure.[Sales], Measure.[SellPriceAtDate]}) on column limit 5;\"\n",
    "\n",
    "\n",
    "# Initialize the O9DataLake with the input parameters and dataframes\n",
    "# Data can be accessed with O9DataLake.get(<Input Name>)\n",
    "# Overwritten values will not be reflected in the O9DataLake after initialization\n",
    "\n",
    "from o9_common_utils.O9DataLake import O9DataLake, ResourceType, DataSource\n",
    "O9DataLake.register(\"input_df\",DataSource.LS, ResourceType.IBPL, _input_df)"
   ]
  },
  {
   "cell_type": "code",
   "execution_count": null,
   "id": "1f53455f-0c4b-4c25-aaf0-b6a550448c21",
   "metadata": {},
   "outputs": [],
   "source": [
    "import logging\n",
    "import os\n",
    "logger = logging.getLogger(\"o9_logger\")\n",
    "logger.info(\"ENV VARIABLES ----------------\")\n",
    "logger.warn(os.environ)\n",
    "import pandas as pd\n",
    "df = pd.DataFrame({\"a\":[1,2,3,4],\"b\":[2,3,4,5]})\n",
    "print(df)\n",
    "print(\"Hello\")"
   ]
  },
  {
   "cell_type": "code",
   "execution_count": null,
   "id": "550e8c69-02ac-431c-a72c-367c9180e964",
   "metadata": {},
   "outputs": [],
   "source": [
    "print(\"tested on 29/08/2022\")\n",
    "print(\"hello1\")"
   ]
  },
  {
   "cell_type": "code",
   "execution_count": 4,
   "id": "32d005bd-0e3e-4024-8719-a3cb96334daa",
   "metadata": {},
   "outputs": [
    {
     "name": "stdout",
     "output_type": "stream",
     "text": [
      "test 30/08/20\n"
     ]
    }
   ],
   "source": [
    "print(\"test 30/08/20\")"
   ]
  },
  {
   "cell_type": "code",
   "execution_count": null,
   "id": "d936f6c0-726b-44ed-aa35-7777e41958d2",
   "metadata": {},
   "outputs": [],
   "source": [
    "print(\"sadfsdf\")"
   ]
  }
 ],
 "metadata": {
  "kernelspec": {
   "display_name": "[pyplatformhivetest] Tenant Conda Environment",
   "language": "python",
   "name": "genieaz_pyplatformhivetest"
  },
  "language_info": {
   "codemirror_mode": {
    "name": "ipython",
    "version": 3
   },
   "file_extension": ".py",
   "mimetype": "text/x-python",
   "name": "python",
   "nbconvert_exporter": "python",
   "pygments_lexer": "ipython3",
   "version": "3.7.10"
  },
  "notebook_dict": {
   "ClassName": "o9.GraphCube.Plugins.Python.PythonScript",
   "InstanceName": "azure_test_nitin",
   "SliceKeys": [],
   "file_path": "loaded_notebooks/azure_test_nitin.ipynb",
   "o9_selected_plugin_id": 178357
  }
 },
 "nbformat": 4,
 "nbformat_minor": 5
}
