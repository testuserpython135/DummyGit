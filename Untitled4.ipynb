{
 "cells": [
  {
   "cell_type": "code",
   "execution_count": 1,
   "id": "8b194d0c-4d66-4cef-a64c-fd5fbb73e557",
   "metadata": {},
   "outputs": [],
   "source": [
    "sales = %ibpl Select ([M5_Store].[store_id] * [M5_Item].[item_id] * [M5_Calendar].[Date] * [Version].[Version Name] ) on row,({Measure.[Sales], Measure.[SellPriceAtDate]}) on column limit 10;"
   ]
  },
  {
   "cell_type": "code",
   "execution_count": 2,
   "id": "ad4e4ebf-6d0f-4409-bf23-e60be315aac6",
   "metadata": {},
   "outputs": [
    {
     "data": {
      "text/html": [
       "<div>\n",
       "<style scoped>\n",
       "    .dataframe tbody tr th:only-of-type {\n",
       "        vertical-align: middle;\n",
       "    }\n",
       "\n",
       "    .dataframe tbody tr th {\n",
       "        vertical-align: top;\n",
       "    }\n",
       "\n",
       "    .dataframe thead th {\n",
       "        text-align: right;\n",
       "    }\n",
       "</style>\n",
       "<table border=\"1\" class=\"dataframe\">\n",
       "  <thead>\n",
       "    <tr style=\"text-align: right;\">\n",
       "      <th></th>\n",
       "      <th>M5_Store.[store_id]</th>\n",
       "      <th>M5_Item.[item_id]</th>\n",
       "      <th>M5_Calendar.[Date]</th>\n",
       "      <th>Version.[Version Name]</th>\n",
       "      <th>Sales</th>\n",
       "      <th>SellPriceAtDate</th>\n",
       "    </tr>\n",
       "  </thead>\n",
       "  <tbody>\n",
       "  </tbody>\n",
       "</table>\n",
       "</div>"
      ],
      "text/plain": [
       "Empty DataFrame\n",
       "Columns: [M5_Store.[store_id], M5_Item.[item_id], M5_Calendar.[Date], Version.[Version Name], Sales, SellPriceAtDate]\n",
       "Index: []"
      ]
     },
     "execution_count": 2,
     "metadata": {},
     "output_type": "execute_result"
    }
   ],
   "source": [
    "sales"
   ]
  },
  {
   "cell_type": "code",
   "execution_count": null,
   "id": "d18bd766-7815-42ef-a660-3a90f4e54286",
   "metadata": {},
   "outputs": [],
   "source": []
  }
 ],
 "metadata": {
  "kernelspec": {
   "display_name": "[pyplatformhivetest] Tenant Conda Environment",
   "language": "python",
   "name": "genieaz_pyplatformhivetest"
  },
  "language_info": {
   "codemirror_mode": {
    "name": "ipython",
    "version": 3
   },
   "file_extension": ".py",
   "mimetype": "text/x-python",
   "name": "python",
   "nbconvert_exporter": "python",
   "pygments_lexer": "ipython3",
   "version": "3.6.10"
  }
 },
 "nbformat": 4,
 "nbformat_minor": 5
}
