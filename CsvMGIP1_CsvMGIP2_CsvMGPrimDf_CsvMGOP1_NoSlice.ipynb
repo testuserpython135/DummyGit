{
 "cells": [
  {
   "cell_type": "code",
   "execution_count": null,
   "id": "f57d24a4-e7df-4674-9a25-eeafc269edb3",
   "metadata": {
    "editable": false
   },
   "outputs": [],
   "source": [
    "# This cell is NOT editable. Overwrite variables on your own discretion.\n",
    "# Any changes other than the script code will NOT BE SAVED!\n",
    "# All cells are assumed to be script code cells, unless explictly tagged as 'o9_ignore'"
   ]
  },
  {
   "cell_type": "code",
   "execution_count": null,
   "id": "d8c08f09-caa7-432b-8e60-caf78a0b9f14",
   "metadata": {},
   "outputs": [],
   "source": [
    "_input_df = \"select (Version.[Version Name]*Product.[Product]*Time.FiscalWeek*SalesAccount.[Account]*Location.[Location]*{Measure.[DPSellOutUnitsActuals],Measure.[Mean Pricing Save PCT],Measure.[Placement Count],Measure.[Promotion Count],Measure.[DPSellOutPrice]});\"\n",
    "_predict_df = \"select (Version.[Version Name]*Product.[Product]*Time.FiscalWeek*SalesAccount.[Account]*Location.[Location]*{Measure.[DPSellOutUnitsActuals],Measure.[Mean Pricing Save PCT],Measure.[Placement Count],Measure.[Promotion Count],Measure.[DPSellOutPrice]});\"\n",
    "\n",
    "\n",
    "# Initialize the O9DataLake with the input parameters and dataframes\n",
    "# Data can be accessed with O9DataLake.get(<Input Name>)\n",
    "# Overwritten values will not be reflected in the O9DataLake after initialization\n",
    "\n",
    "from o9_common_utils.O9DataLake import O9DataLake, ResourceType, DataSource\n",
    "O9DataLake.register(\"input_df\",DataSource.LS, ResourceType.IBPL, _input_df)\n",
    "O9DataLake.register(\"predict_df\",DataSource.LS, ResourceType.IBPL, _predict_df)"
   ]
  },
  {
   "cell_type": "code",
   "execution_count": null,
   "id": "ca0db097-2308-43a4-80be-8a1325134214",
   "metadata": {},
   "outputs": [],
   "source": [
    "\"\"\"\n",
    "exec plugin instance [CsvMGIP1_CsvMGIP2_CsvMGPrimDf_CsvMGOP1_NoSlice] for measures {[DPSellOutUnitsActuals]} using scope ([Product].[Product].Filter(#.Name in {[196426],[208821]}) * [Time].[Day] * [Version].[Version Name].[CurrentWorkingView]);\n",
    "\n",
    "\"\"\"\n",
    "\n",
    "from sklearn import tree\n",
    "import logging\n",
    "logger = logging.getLogger('o9_logger')\n",
    "logger.info('Plugin Executed')\n",
    "logger.error(datetest.head(2))\n",
    "from o9_flow.O9Flow import O9Flow\n",
    "O9Flow = O9Flow()\n",
    "O9Flow.start_run()\n",
    "print('>>>>>>input_df', input_df.head(2))\n",
    "print('*********************')\n",
    "print('TESTTESTTEST')\n",
    "print('>>>>>>datetest', datetest.head(2))\n",
    "\n",
    "out_df = None\n",
    "\n",
    "if predict_df is not None and len(predict_df.index) > 0:\n",
    "    x = input_df[['Mean Pricing Save PCT', 'Placement Count', 'Promotion Count', 'DPSellOutPrice']]\n",
    "    y = input_df[['DPSellOutUnitsActuals']]\n",
    "    x = x.fillna(0).values\n",
    "    y = y.fillna(0).values\n",
    "\n",
    "    clf = tree.DecisionTreeRegressor()\n",
    "    clf = clf.fit(x, y)\n",
    "    predict = predict_df[['Mean Pricing Save PCT', 'Placement Count', 'Promotion Count', 'DPSellOutPrice']].fillna(0).values\n",
    "    predict_values = clf.predict(predict)\n",
    "    predict_df[\"DPSellOutUnitsFcst\"] = predict_values\n",
    "    #out_df = pd.concat([predict_keys, out_df_part], axis=1)\n",
    "    out_df=predict_df[['Time.[FiscalWeek]', 'Product.[Product]', 'Version.[Version Name]', 'SalesAccount.[Account]','Location.[Location]','DPSellOutUnitsFcst']]\n",
    "\n",
    "else:\n",
    "\n",
    "    out_df = None\n",
    "logger.info('Plugin Executed completed')\n",
    "logger.error('Plugindone')\n",
    "print(out_df)"
   ]
  }
 ],
 "metadata": {
  "kernelspec": {
   "display_name": "[pyplatformhivetest] Tenant Conda Environment",
   "language": "python",
   "name": "genieaz_pyplatformhivetest"
  },
  "language_info": {
   "codemirror_mode": {
    "name": "ipython",
    "version": 3
   },
   "file_extension": ".py",
   "mimetype": "text/x-python",
   "name": "python",
   "nbconvert_exporter": "python",
   "pygments_lexer": "ipython3",
   "version": "3.7.10"
  },
  "notebook_dict": {
   "ClassName": "o9.GraphCube.Plugins.Python.PythonScript",
   "InstanceName": "CsvMGIP1_CsvMGIP2_CsvMGPrimDf_CsvMGOP1_NoSlice",
   "SliceKeys": [],
   "file_path": "loaded_notebooks/CsvMGIP1_CsvMGIP2_CsvMGPrimDf_CsvMGOP1_NoSlice.ipynb",
   "o9_selected_plugin_id": 202679
  }
 },
 "nbformat": 4,
 "nbformat_minor": 5
}
