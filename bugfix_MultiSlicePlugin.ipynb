{
 "cells": [
  {
   "cell_type": "code",
   "execution_count": null,
   "id": "d7c09574-3dd8-479f-bbee-5b08c32d2119",
   "metadata": {
    "editable": false
   },
   "outputs": [],
   "source": [
    "# This cell is NOT editable. Overwrite variables on your own discretion.\n",
    "# Any changes other than the script code will NOT BE SAVED!\n",
    "# All cells are assumed to be script code cells, unless explictly tagged as 'o9_ignore'"
   ]
  },
  {
   "cell_type": "code",
   "execution_count": 2,
   "id": "828902ec-8150-45d7-a888-16ebc9bcbbbc",
   "metadata": {},
   "outputs": [],
   "source": [
    "# Slice Dimension Attributes defined in the plugin. Please check all queries and replace <KEY HERE> with a valid name.\n",
    "# For example: If slice is defined by Version.[Version Name] and Time.[Month]\n",
    "# input_df = ibpl Select ([Version].[Version Name].[<KEY HERE>] * [Time].[Month].[<KEY HERE>] * [Item].[Item Number]) on row, ({Measure.[M1], Measure.[M2]}) on column limit 5000;\n",
    "#                             update <KEY HERE> to valid names\n",
    "# input_df = ibpl Select ([Version].[Version Name].[CurrentWorkingView] * [Time].[Month].[January] * [Item].[Item Number]) on row, ({Measure.[M1], Measure.[M2]}) on column limit 5000;\n",
    "\n",
    "_dbBaseInput_df = \"select (Version.[Version Name]*Product.[Product].[<KEY HERE>]*Time.FiscalWeek*SalesAccount.[Account]*Location.[Location]*{Measure.[DPSellOutUnitsActuals],Measure.[Mean Pricing Save PCT],Measure.[Placement Count],Measure.[Promotion Count],Measure.[DPSellOutPrice]});\"\n",
    "_weather_df = \"select ([Time].[FiscalWeek] * [Version].[Version Name] * [Initiative].[Initiative].[<KEY HERE>] * [Product].[Product].[<KEY HERE>] ) on row,  ({Measure.[Flyer Page Num], Measure.[Flyer Show IND], Measure.[Flyer Slot Num], Measure.[Flyer Slot Priority NM], Measure.[Flyer Slot Program NM], Measure.[Flyer Space Actual PCT], Measure.[Placement], Measure.[Pricing Retail Promo Natl Amt], Measure.[Pricing Retail Regular Natl Amt], Measure.[Pricing Save PCT], Measure.[Promotion]}) on column;\"\n",
    "\n",
    "\n",
    "# Initialize the O9DataLake with the input parameters and dataframes\n",
    "# Data can be accessed with O9DataLake.get(<Input Name>)\n",
    "# Overwritten values will not be reflected in the O9DataLake after initialization\n",
    "\n",
    "from o9_common_utils.O9DataLake import O9DataLake, ResourceType, DataSource\n",
    "O9DataLake.register(\"dbBaseInput_df\",DataSource.LS, ResourceType.IBPL, _dbBaseInput_df)\n",
    "O9DataLake.register(\"weather_df\",DataSource.LS, ResourceType.IBPL, _weather_df)"
   ]
  },
  {
   "cell_type": "code",
   "execution_count": null,
   "id": "29f118d2-5051-436e-9229-4619f065bdab",
   "metadata": {},
   "outputs": [],
   "source": [
    "\"\"\"\n",
    "exec plugin instance [bugfix_MultiSlicePlugin] for measures {[DPSellOutUnitsActuals]} using scope ([Product].[Product].Filter(#.Name in {[181166],[208821],[85201]}) * Time.[FiscalWeek] * [Version].[Version Name].[CurrentWorkingView] * [Initiative].[Initiative].filter(#.Name in {\"2016-0472\",\"2016-0492\"})) using arguments {(NumExecutors, 2),(PythonPath, \"/opt/conda/envs/aa_storage/bin/python\"),([Param.o9_sys_log_level], \"DEBUG\")};\n",
    "\n",
    "\"\"\"\n",
    "\n",
    "import logging\n",
    "\n",
    "logger = logging.getLogger('o9_logger')\n",
    "logger.info(df_keys)\n",
    "\n",
    "logger.info('dbBaseInput_df length {}'.format(len(dbBaseInput_df.index)))\n",
    "logger.info('dbBaseInput_df: {}'.format(dbBaseInput_df))\n",
    "logger.info('weather_df length {}'.format(len(weather_df.index)))\n",
    "logger.info('weather_df: {}'.format(weather_df))\n",
    "\n",
    "\n",
    "\n",
    "out_df = None\n"
   ]
  },
  {
   "cell_type": "code",
   "execution_count": 1,
   "id": "73b82d97-da36-4b81-b83e-2bdbd55b516a",
   "metadata": {},
   "outputs": [
    {
     "name": "stdout",
     "output_type": "stream",
     "text": [
      "dssd\n"
     ]
    }
   ],
   "source": [
    "print(\"dssd\")"
   ]
  },
  {
   "cell_type": "code",
   "execution_count": 4,
   "id": "1a1a3f8c-3541-4f5b-9bde-edae28163e0d",
   "metadata": {},
   "outputs": [
    {
     "name": "stdout",
     "output_type": "stream",
     "text": [
      "dsfase\n"
     ]
    }
   ],
   "source": [
    "print(\"dsfase\")"
   ]
  },
  {
   "cell_type": "code",
   "execution_count": null,
   "id": "247216b8-bebe-42a6-8995-658e4abada92",
   "metadata": {},
   "outputs": [],
   "source": []
  }
 ],
 "metadata": {
  "kernelspec": {
   "display_name": "[pyplatformhivetest] Tenant Conda Environment",
   "language": "python",
   "name": "genieaz_pyplatformhivetest"
  },
  "language_info": {
   "codemirror_mode": {
    "name": "ipython",
    "version": 3
   },
   "file_extension": ".py",
   "mimetype": "text/x-python",
   "name": "python",
   "nbconvert_exporter": "python",
   "pygments_lexer": "ipython3",
   "version": "3.7.10"
  },
  "notebook_dict": {
   "ClassName": "o9.GraphCube.Plugins.Python.PythonScript",
   "InstanceName": "bugfix_MultiSlicePlugin",
   "SliceKeys": [
    {
     "AttributeName": "Product",
     "DimensionName": "Product"
    },
    {
     "AttributeName": "Initiative",
     "DimensionName": "Initiative"
    }
   ],
   "file_path": "loaded_notebooks/bugfix_MultiSlicePlugin.ipynb",
   "o9_selected_plugin_id": 178368
  }
 },
 "nbformat": 4,
 "nbformat_minor": 5
}
